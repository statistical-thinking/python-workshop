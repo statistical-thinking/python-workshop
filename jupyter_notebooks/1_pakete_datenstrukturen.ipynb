{
 "cells": [
  {
   "cell_type": "code",
   "execution_count": null,
   "id": "4d1345fc",
   "metadata": {},
   "outputs": [],
   "source": [
    "# Vorbereitungen\n",
    "import pandas as pd"
   ]
  },
  {
   "cell_type": "code",
   "execution_count": null,
   "id": "f06ead79",
   "metadata": {},
   "outputs": [],
   "source": [
    "# Datensatz einlesen\n",
    "df = pd.read_csv('datasets/data_one.csv')"
   ]
  },
  {
   "cell_type": "code",
   "execution_count": null,
   "id": "3c673ea1",
   "metadata": {},
   "outputs": [],
   "source": [
    "# Datensatz einsehen (I)\n",
    "print(df.columns.values)"
   ]
  },
  {
   "cell_type": "code",
   "execution_count": null,
   "id": "ec6545bd",
   "metadata": {},
   "outputs": [],
   "source": [
    "# Datensatz einsehen (II)\n",
    "df.head()"
   ]
  },
  {
   "cell_type": "code",
   "execution_count": null,
   "id": "29ad7609",
   "metadata": {},
   "outputs": [],
   "source": [
    "# Listen und Elemente (I)\n",
    "list(df.sex[0:5])"
   ]
  },
  {
   "cell_type": "code",
   "execution_count": null,
   "id": "3c89315b",
   "metadata": {},
   "outputs": [],
   "source": [
    "# Listen und Elemente (II)\n",
    "neues_objekt = df.sex[0:5]\n",
    "neues_objekt[0] = \"male\"\n",
    "neues_objekt"
   ]
  },
  {
   "cell_type": "code",
   "execution_count": null,
   "id": "fb803c0a",
   "metadata": {},
   "outputs": [],
   "source": [
    "# Listen und Elemente (III)\n",
    "ein_neues_objekt = df.pclass[0:5]\n",
    "noch_ein_neues_objekt = ein_neues_objekt * 2\n",
    "noch_ein_neues_objekt"
   ]
  },
  {
   "cell_type": "code",
   "execution_count": null,
   "id": "e9a8ea07",
   "metadata": {},
   "outputs": [],
   "source": [
    "# Tuples (I)\n",
    "neuer_tuple = (1, 2, 3, \"female\", \"male\")\n",
    "neuer_tuple"
   ]
  },
  {
   "cell_type": "code",
   "execution_count": null,
   "id": "40f0fce9",
   "metadata": {},
   "outputs": [],
   "source": [
    "# Tuples (II)\n",
    "neuer_tuple * 2"
   ]
  },
  {
   "cell_type": "code",
   "execution_count": null,
   "id": "9f80ce20",
   "metadata": {},
   "outputs": [],
   "source": [
    "# Stacks (I)\n",
    "neues_stack = [1, 2, 3]\n",
    "neues_stack.append(4)\n",
    "neues_stack"
   ]
  },
  {
   "cell_type": "code",
   "execution_count": null,
   "id": "4f499834",
   "metadata": {},
   "outputs": [],
   "source": [
    "# Stacks (II)\n",
    "neues_stack.pop()\n",
    "neues_stack"
   ]
  },
  {
   "cell_type": "code",
   "execution_count": null,
   "id": "af3d96b8",
   "metadata": {},
   "outputs": [],
   "source": [
    "# Variablenauswahl\n",
    "print(\"Alle Variablen:\", df.shape)\n",
    "smaller_df = df.drop(['ticket', 'cabin'], axis='columns')\n",
    "print(\"Variablenauswahl:\", smaller_df.shape)"
   ]
  },
  {
   "cell_type": "code",
   "execution_count": null,
   "id": "6abef8fa",
   "metadata": {},
   "outputs": [],
   "source": [
    "# Fehlwerte\n",
    "df['boat'].isna().sum()"
   ]
  },
  {
   "cell_type": "code",
   "execution_count": null,
   "id": "0436a849",
   "metadata": {},
   "outputs": [],
   "source": [
    "# Featureübergreifende Zusammenhänge\n",
    "df[['pclass', 'survived']].groupby(['pclass'], as_index=False).mean().sort_values(by='survived', ascending=False)"
   ]
  },
  {
   "cell_type": "code",
   "execution_count": null,
   "id": "400347d6",
   "metadata": {},
   "outputs": [],
   "source": []
  }
 ],
 "metadata": {
  "kernelspec": {
   "display_name": "Python 3 (ipykernel)",
   "language": "python",
   "name": "python3"
  },
  "language_info": {
   "codemirror_mode": {
    "name": "ipython",
    "version": 3
   },
   "file_extension": ".py",
   "mimetype": "text/x-python",
   "name": "python",
   "nbconvert_exporter": "python",
   "pygments_lexer": "ipython3",
   "version": "3.13.5"
  }
 },
 "nbformat": 4,
 "nbformat_minor": 5
}
