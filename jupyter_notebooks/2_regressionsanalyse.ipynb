{
 "cells": [
  {
   "cell_type": "code",
   "execution_count": null,
   "id": "cacb6b91",
   "metadata": {},
   "outputs": [],
   "source": [
    "# Vorbereitungen\n",
    "import numpy as np\n",
    "import pandas as pd\n",
    "import matplotlib.pyplot as plt\n",
    "from sklearn.linear_model import LinearRegression"
   ]
  },
  {
   "cell_type": "code",
   "execution_count": null,
   "id": "d869ed07",
   "metadata": {},
   "outputs": [],
   "source": [
    "# Datensatz einlesen\n",
    "df = pd.read_csv('datasets/data_two.csv')"
   ]
  },
  {
   "cell_type": "code",
   "execution_count": null,
   "id": "11f80a02",
   "metadata": {},
   "outputs": [],
   "source": [
    "# Univariate Statistik (I)\n",
    "df.describe()"
   ]
  },
  {
   "cell_type": "code",
   "execution_count": null,
   "id": "e5be4862",
   "metadata": {},
   "outputs": [],
   "source": [
    "# Univariate Statistik (II)\n",
    "df.boxplot()\n",
    "title_boxplot = 'Descriptive Statistics'\n",
    "plt.title(title_boxplot)"
   ]
  },
  {
   "cell_type": "code",
   "execution_count": null,
   "id": "d9413ec5",
   "metadata": {},
   "outputs": [],
   "source": [
    "# Bivariate Statistik (I)\n",
    "df.corr()"
   ]
  },
  {
   "cell_type": "code",
   "execution_count": null,
   "id": "6b2380b9",
   "metadata": {},
   "outputs": [],
   "source": [
    "# Bivariate Statistik (II)\n",
    "plt.scatter(df.Y, df.X1)\n",
    "plt.scatter(df.Y, df.X2)"
   ]
  },
  {
   "cell_type": "code",
   "execution_count": null,
   "id": "978a8d53",
   "metadata": {},
   "outputs": [],
   "source": [
    "# Multivariate Statistik (I)\n",
    "y = np.array(df.Y)\n",
    "x = df.iloc[:,[0,1]]"
   ]
  },
  {
   "cell_type": "code",
   "execution_count": null,
   "id": "93271887",
   "metadata": {},
   "outputs": [],
   "source": [
    "# Multivariate Statistik (II)\n",
    "model = LinearRegression()\n",
    "model.fit(x, y)"
   ]
  },
  {
   "cell_type": "code",
   "execution_count": null,
   "id": "5083863a",
   "metadata": {},
   "outputs": [],
   "source": [
    "# Multivariate Statistik (III)\n",
    "r_sq = model.score(x, y)\n",
    "print('coefficient of determination:', r_sq)\n",
    "print('intercept:', model.intercept_)\n",
    "print('coefficients:', model.coef_)"
   ]
  },
  {
   "cell_type": "code",
   "execution_count": null,
   "id": "9e19620d",
   "metadata": {},
   "outputs": [],
   "source": [
    "# Probe\n",
    "df.iloc[12,]\n",
    "# Y1 = -57.99 + 4.71 * 11.4 + 0.34 * 76"
   ]
  },
  {
   "cell_type": "code",
   "execution_count": null,
   "id": "1d2a8202",
   "metadata": {},
   "outputs": [],
   "source": [
    "# Multivariate Statistik (IV)\n",
    "model.predict(x)"
   ]
  },
  {
   "cell_type": "code",
   "execution_count": null,
   "id": "580f1a5a",
   "metadata": {},
   "outputs": [],
   "source": [
    "# Multivariate Statistik (V)\n",
    "predictions = model.predict(x)\n",
    "residuals = y - predictions\n",
    "print('residuals:', residuals)"
   ]
  },
  {
   "cell_type": "code",
   "execution_count": null,
   "id": "ba964be0",
   "metadata": {},
   "outputs": [],
   "source": [
    "# Multivariate Statistik (VI)\n",
    "plt.scatter(predictions, residuals)\n",
    "plt.hlines(0, 5, 70, color=\"red\", linestyle=\"dotted\")"
   ]
  },
  {
   "cell_type": "code",
   "execution_count": null,
   "id": "e17f404a",
   "metadata": {},
   "outputs": [],
   "source": []
  }
 ],
 "metadata": {
  "kernelspec": {
   "display_name": "Python 3 (ipykernel)",
   "language": "python",
   "name": "python3"
  },
  "language_info": {
   "codemirror_mode": {
    "name": "ipython",
    "version": 3
   },
   "file_extension": ".py",
   "mimetype": "text/x-python",
   "name": "python",
   "nbconvert_exporter": "python",
   "pygments_lexer": "ipython3",
   "version": "3.10.12"
  }
 },
 "nbformat": 4,
 "nbformat_minor": 5
}
