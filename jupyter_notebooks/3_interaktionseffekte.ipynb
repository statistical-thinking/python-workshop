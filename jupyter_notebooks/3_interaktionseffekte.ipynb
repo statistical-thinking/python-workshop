{
 "cells": [
  {
   "cell_type": "code",
   "execution_count": null,
   "id": "850abbfd",
   "metadata": {},
   "outputs": [],
   "source": [
    "# Vorbereitungen\n",
    "import numpy as np\n",
    "import pandas as pd\n",
    "import matplotlib.pyplot as plt\n",
    "from sklearn.linear_model import LinearRegression"
   ]
  },
  {
   "cell_type": "code",
   "execution_count": null,
   "id": "7d02759d",
   "metadata": {},
   "outputs": [],
   "source": [
    "# Datensatz einlesen\n",
    "df = pd.read_csv('datasets/data_three.csv')"
   ]
  },
  {
   "cell_type": "code",
   "execution_count": null,
   "id": "bebcf939",
   "metadata": {},
   "outputs": [],
   "source": [
    "# Univariate Statistik (I)\n",
    "df.describe()"
   ]
  },
  {
   "cell_type": "code",
   "execution_count": null,
   "id": "95933b8f",
   "metadata": {},
   "outputs": [],
   "source": [
    "# Univariate Statistik (II)\n",
    "df.boxplot()\n",
    "title_boxplot = 'Descriptive Statistics'\n",
    "plt.title(title_boxplot)"
   ]
  },
  {
   "cell_type": "code",
   "execution_count": null,
   "id": "86ef5661",
   "metadata": {},
   "outputs": [],
   "source": [
    "# Bivariate Statistik (I)\n",
    "df.corr()"
   ]
  },
  {
   "cell_type": "code",
   "execution_count": null,
   "id": "72c8573e",
   "metadata": {},
   "outputs": [],
   "source": [
    "# Bivariate Statistik (II)\n",
    "plt.scatter(df.Y, df.X1)\n",
    "plt.scatter(df.Y, df.X2)\n",
    "\n",
    "##############################\n",
    "### SIEHE AUFGABENSTELLUNG ###\n",
    "##############################"
   ]
  },
  {
   "cell_type": "code",
   "execution_count": null,
   "id": "827a865b",
   "metadata": {},
   "outputs": [],
   "source": [
    "# Multivariate Statistik (I)\n",
    "y = np.array(df.Y)\n",
    "x = df.iloc[:,[1,2,3,4,5]]"
   ]
  },
  {
   "cell_type": "code",
   "execution_count": null,
   "id": "893084d6",
   "metadata": {},
   "outputs": [],
   "source": [
    "# Multivariate Statistik (II)\n",
    "model = LinearRegression()\n",
    "model.fit(x, y)"
   ]
  },
  {
   "cell_type": "code",
   "execution_count": null,
   "id": "9bbc9a60",
   "metadata": {},
   "outputs": [],
   "source": [
    "# Multivariate Statistik (III)\n",
    "model.predict(x)"
   ]
  },
  {
   "cell_type": "code",
   "execution_count": null,
   "id": "14833306",
   "metadata": {},
   "outputs": [],
   "source": [
    "# Multivariate Statistik (IV)\n",
    "r_sq = model.score(x, y)\n",
    "print('coefficient of determination:', r_sq)\n",
    "print('intercept:', model.intercept_)\n",
    "print('coefficients:', model.coef_)"
   ]
  },
  {
   "cell_type": "code",
   "execution_count": null,
   "id": "a084b4f7",
   "metadata": {},
   "outputs": [],
   "source": [
    "# Multivariate Statistik (V)\n",
    "predictions = model.predict(x)\n",
    "residuals = y - predictions\n",
    "print('residuals:', residuals)"
   ]
  },
  {
   "cell_type": "code",
   "execution_count": null,
   "id": "eb579cb8",
   "metadata": {},
   "outputs": [],
   "source": [
    "# Multivariate Statistik (VI)\n",
    "plt.scatter(predictions, residuals)\n",
    "plt.hlines(0, 35, 90, color=\"red\", linestyle=\"dotted\")\n",
    "plt.show()"
   ]
  },
  {
   "cell_type": "code",
   "execution_count": null,
   "id": "754c34ca",
   "metadata": {},
   "outputs": [],
   "source": []
  }
 ],
 "metadata": {
  "kernelspec": {
   "display_name": "Python 3 (ipykernel)",
   "language": "python",
   "name": "python3"
  },
  "language_info": {
   "codemirror_mode": {
    "name": "ipython",
    "version": 3
   },
   "file_extension": ".py",
   "mimetype": "text/x-python",
   "name": "python",
   "nbconvert_exporter": "python",
   "pygments_lexer": "ipython3",
   "version": "3.12.3"
  }
 },
 "nbformat": 4,
 "nbformat_minor": 5
}
