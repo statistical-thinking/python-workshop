{
 "cells": [
  {
   "cell_type": "code",
   "execution_count": null,
   "id": "546fcfe1",
   "metadata": {},
   "outputs": [],
   "source": [
    "# Vorbereitungen\n",
    "import numpy as np\n",
    "from matplotlib import pyplot as plt\n",
    "from sklearn.datasets import make_blobs\n",
    "from sklearn.cluster import KMeans"
   ]
  },
  {
   "cell_type": "code",
   "execution_count": null,
   "id": "e1c8b475",
   "metadata": {},
   "outputs": [],
   "source": [
    "# Datensatz für Plot simulieren\n",
    "X, y = make_blobs(n_samples=500, centers=4, cluster_std=1.75, random_state=7)"
   ]
  },
  {
   "cell_type": "code",
   "execution_count": null,
   "id": "5bf989cd",
   "metadata": {},
   "outputs": [],
   "source": [
    "# Cluster visualisieren\n",
    "plt.scatter(X[:,0], X[:,1])"
   ]
  },
  {
   "cell_type": "code",
   "execution_count": null,
   "id": "ca4e50eb",
   "metadata": {},
   "outputs": [],
   "source": [
    "# Within Cluster Sum of Squares\n",
    "wcss = []\n",
    "for i in range(1, 11):\n",
    "    kmeans = KMeans(n_clusters=i, init='k-means++', max_iter=200, n_init=10, random_state=0)\n",
    "    kmeans.fit(X)\n",
    "    wcss.append(kmeans.inertia_)\n",
    "plt.plot(range(1, 11), wcss)\n",
    "plt.title('Elbow Method')\n",
    "plt.xlabel('Number of clusters')\n",
    "plt.ylabel('WCSS')\n",
    "plt.show()"
   ]
  },
  {
   "cell_type": "code",
   "execution_count": null,
   "id": "6a466598",
   "metadata": {},
   "outputs": [],
   "source": [
    "# K-Means Cluster visualisieren\n",
    "kmeans = KMeans(n_clusters=4, init='k-means++', max_iter=200, n_init=10, random_state=5)\n",
    "pred_y = kmeans.fit_predict(X)\n",
    "plt.scatter(X[:,0], X[:,1])\n",
    "plt.scatter(kmeans.cluster_centers_[:, 0], kmeans.cluster_centers_[:, 1], s=500, c='yellow')\n",
    "plt.show()\n",
    "# plt.savefig('k_means.jpg', dpi=600)"
   ]
  },
  {
   "cell_type": "code",
   "execution_count": null,
   "id": "c27c7ff9",
   "metadata": {},
   "outputs": [],
   "source": [
    "# K-Means Cluster grafisch anpassen\n",
    "\n",
    "##############################\n",
    "### SIEHE AUFGABENSTELLUNG ###\n",
    "##############################"
   ]
  },
  {
   "cell_type": "code",
   "execution_count": null,
   "id": "1e6b5c51",
   "metadata": {},
   "outputs": [],
   "source": []
  }
 ],
 "metadata": {
  "kernelspec": {
   "display_name": "Python 3 (ipykernel)",
   "language": "python",
   "name": "python3"
  },
  "language_info": {
   "codemirror_mode": {
    "name": "ipython",
    "version": 3
   },
   "file_extension": ".py",
   "mimetype": "text/x-python",
   "name": "python",
   "nbconvert_exporter": "python",
   "pygments_lexer": "ipython3",
   "version": "3.10.6"
  }
 },
 "nbformat": 4,
 "nbformat_minor": 5
}
