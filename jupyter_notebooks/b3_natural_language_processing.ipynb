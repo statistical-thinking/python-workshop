{
 "cells": [
  {
   "cell_type": "code",
   "execution_count": 2,
   "id": "da9def8e",
   "metadata": {},
   "outputs": [],
   "source": [
    "import numpy as np"
   ]
  },
  {
   "cell_type": "code",
   "execution_count": 1,
   "id": "d6a9a084",
   "metadata": {},
   "outputs": [],
   "source": [
    "lexicon = {}\n",
    "\n",
    "def update_lexicon(current : str, next_word : str) -> None:\n",
    "    if current not in lexicon:\n",
    "        lexicon.update({current: {next_word: 1} })\n",
    "        return\n",
    "\n",
    "    options = lexicon[current]\n",
    "    if next_word not in options:\n",
    "        options.update({next_word : 1})\n",
    "    else:\n",
    "        options.update({next_word : options[next_word] + 1})\n",
    "\n",
    "    lexicon[current] = options\n",
    "\n",
    "with open('datasets/text.txt') as dataset:\n",
    "    for line in dataset:\n",
    "        words = line.strip().split(' ')\n",
    "        for i in range(len(words) - 1):\n",
    "            update_lexicon(words[i], words[i+1])\n",
    "        \n",
    "    for word, transition in lexicon.items():\n",
    "        transition = dict((key, value / sum(transition.values())) for key, value in transition.items())\n",
    "        lexicon[word] = transition"
   ]
  },
  {
   "cell_type": "code",
   "execution_count": null,
   "id": "7ec7f940",
   "metadata": {},
   "outputs": [],
   "source": [
    "line = input('> ')\n",
    "word = line.strip().split(' ')[-1]\n",
    "if word not in lexicon:\n",
    "    print('Sorry...')\n",
    "else:\n",
    "    options = lexicon[word]\n",
    "    predicted = np.random.choice(list(options))\n",
    "    print(predicted)"
   ]
  },
  {
   "cell_type": "code",
   "execution_count": 4,
   "id": "76e3dd69",
   "metadata": {},
   "outputs": [
    {
     "data": {
      "text/plain": [
       "['good', 'bad', 'ugly']"
      ]
     },
     "execution_count": 4,
     "metadata": {},
     "output_type": "execute_result"
    }
   ],
   "source": [
    "list(options.keys())"
   ]
  },
  {
   "cell_type": "code",
   "execution_count": null,
   "id": "7bc93165",
   "metadata": {},
   "outputs": [],
   "source": []
  }
 ],
 "metadata": {
  "kernelspec": {
   "display_name": "Python 3 (ipykernel)",
   "language": "python",
   "name": "python3"
  },
  "language_info": {
   "codemirror_mode": {
    "name": "ipython",
    "version": 3
   },
   "file_extension": ".py",
   "mimetype": "text/x-python",
   "name": "python",
   "nbconvert_exporter": "python",
   "pygments_lexer": "ipython3",
   "version": "3.12.3"
  }
 },
 "nbformat": 4,
 "nbformat_minor": 5
}
