{
 "cells": [
  {
   "cell_type": "code",
   "execution_count": null,
   "id": "6913a554",
   "metadata": {},
   "outputs": [],
   "source": [
    "# Vorbereitungen\n",
    "from numpy import unique\n",
    "from numpy import where\n",
    "from matplotlib import pyplot\n",
    "from sklearn.cluster import Birch\n",
    "from sklearn.cluster import DBSCAN\n",
    "from sklearn.cluster import MeanShift\n",
    "from sklearn.mixture import GaussianMixture\n",
    "from sklearn.cluster import SpectralClustering\n",
    "from sklearn.cluster import AgglomerativeClustering\n",
    "from sklearn.datasets import make_blobs"
   ]
  },
  {
   "cell_type": "code",
   "execution_count": null,
   "id": "30caee69",
   "metadata": {},
   "outputs": [],
   "source": [
    "# Datensatz für Plot simulieren\n",
    "X, y = make_blobs(n_samples=500, centers=4, cluster_std=1.75, random_state=7)"
   ]
  },
  {
   "cell_type": "code",
   "execution_count": null,
   "id": "a8e8680c",
   "metadata": {},
   "outputs": [],
   "source": [
    "# Simulierten Datensatz plotten\n",
    "for class_value in range(4):\n",
    "    row_ix = where(y == class_value)\n",
    "    pyplot.scatter(X[row_ix, 0], X[row_ix, 1])\n",
    "pyplot.show()"
   ]
  },
  {
   "cell_type": "code",
   "execution_count": null,
   "id": "2542313f",
   "metadata": {},
   "outputs": [],
   "source": [
    "# Agglomeratives Clustering Algorithmus\n",
    "model = AgglomerativeClustering(n_clusters=4)\n",
    "yhat = model.fit_predict(X)\n",
    "clusters = unique(yhat)"
   ]
  },
  {
   "cell_type": "code",
   "execution_count": null,
   "id": "47e69819",
   "metadata": {},
   "outputs": [],
   "source": [
    "# Clusterlösung visualisieren\n",
    "for cluster in clusters:\n",
    "    row_ix = where(yhat == cluster)\n",
    "    pyplot.scatter(X[row_ix, 0], X[row_ix, 1])\n",
    "pyplot.show()"
   ]
  },
  {
   "cell_type": "code",
   "execution_count": null,
   "id": "bf89b19f",
   "metadata": {},
   "outputs": [],
   "source": [
    "# Birch Algorithmus\n",
    "model = Birch(threshold=0.01, n_clusters=4)\n",
    "model.fit(X)\n",
    "yhat = model.predict(X)\n",
    "clusters = unique(yhat)"
   ]
  },
  {
   "cell_type": "code",
   "execution_count": null,
   "id": "178385c5",
   "metadata": {},
   "outputs": [],
   "source": [
    "# Clusterlösung visualisieren\n",
    "for cluster in clusters:\n",
    "    row_ix = where(yhat == cluster)\n",
    "    pyplot.scatter(X[row_ix, 0], X[row_ix, 1])\n",
    "pyplot.show()"
   ]
  },
  {
   "cell_type": "code",
   "execution_count": null,
   "id": "cf658952",
   "metadata": {},
   "outputs": [],
   "source": [
    "# DBSCAN Agorithmus\n",
    "model = DBSCAN(eps=1.00, min_samples=4)\n",
    "yhat = model.fit_predict(X)\n",
    "clusters = unique(yhat)"
   ]
  },
  {
   "cell_type": "code",
   "execution_count": null,
   "id": "8a716128",
   "metadata": {},
   "outputs": [],
   "source": [
    "# Clusterlösung visualisieren\n",
    "for cluster in clusters:\n",
    "    row_ix = where(yhat == cluster)\n",
    "    pyplot.scatter(X[row_ix, 0], X[row_ix, 1])\n",
    "pyplot.show()"
   ]
  },
  {
   "cell_type": "code",
   "execution_count": null,
   "id": "a98c237a",
   "metadata": {},
   "outputs": [],
   "source": [
    "# Mean Shift Algorithmus\n",
    "model = MeanShift()\n",
    "yhat = model.fit_predict(X)\n",
    "clusters = unique(yhat)"
   ]
  },
  {
   "cell_type": "code",
   "execution_count": null,
   "id": "b8b1bd3a",
   "metadata": {},
   "outputs": [],
   "source": [
    "# Clusterlösung visualisieren\n",
    "for cluster in clusters:\n",
    "    row_ix = where(yhat == cluster)\n",
    "    pyplot.scatter(X[row_ix, 0], X[row_ix, 1])\n",
    "pyplot.show()"
   ]
  },
  {
   "cell_type": "code",
   "execution_count": null,
   "id": "6cced03e",
   "metadata": {},
   "outputs": [],
   "source": [
    "# Spectral Clustering Algorithmus\n",
    "model = SpectralClustering(n_clusters=4)\n",
    "yhat = model.fit_predict(X)\n",
    "clusters = unique(yhat)"
   ]
  },
  {
   "cell_type": "code",
   "execution_count": null,
   "id": "90cc73b0",
   "metadata": {},
   "outputs": [],
   "source": [
    "# Clusterlösung visualisieren\n",
    "for cluster in clusters:\n",
    "    row_ix = where(yhat == cluster)\n",
    "    pyplot.scatter(X[row_ix, 0], X[row_ix, 1])\n",
    "pyplot.show()"
   ]
  },
  {
   "cell_type": "code",
   "execution_count": null,
   "id": "ea362499",
   "metadata": {},
   "outputs": [],
   "source": [
    "# Gaussian Mixture Algorithmus\n",
    "model = GaussianMixture(n_components=4)\n",
    "model.fit(X)\n",
    "yhat = model.predict(X)"
   ]
  },
  {
   "cell_type": "code",
   "execution_count": null,
   "id": "88a3241a",
   "metadata": {},
   "outputs": [],
   "source": [
    "# Clusterlösung visualisieren\n",
    "for cluster in clusters:\n",
    "    row_ix = where(yhat == cluster)\n",
    "    pyplot.scatter(X[row_ix, 0], X[row_ix, 1])\n",
    "pyplot.show()"
   ]
  },
  {
   "cell_type": "code",
   "execution_count": null,
   "id": "fb02b44a",
   "metadata": {},
   "outputs": [],
   "source": [
    "# Ausgewählter Algorithmus der Clusteranalyse\n",
    "\n",
    "##############################\n",
    "### SIEHE AUFGABENSTELLUNG ###\n",
    "##############################"
   ]
  },
  {
   "cell_type": "code",
   "execution_count": null,
   "id": "a48bf054",
   "metadata": {},
   "outputs": [],
   "source": []
  }
 ],
 "metadata": {
  "kernelspec": {
   "display_name": "Python 3 (ipykernel)",
   "language": "python",
   "name": "python3"
  },
  "language_info": {
   "codemirror_mode": {
    "name": "ipython",
    "version": 3
   },
   "file_extension": ".py",
   "mimetype": "text/x-python",
   "name": "python",
   "nbconvert_exporter": "python",
   "pygments_lexer": "ipython3",
   "version": "3.12.3"
  }
 },
 "nbformat": 4,
 "nbformat_minor": 5
}
