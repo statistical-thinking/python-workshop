{
 "cells": [
  {
   "cell_type": "code",
   "execution_count": null,
   "id": "d111fd49",
   "metadata": {},
   "outputs": [],
   "source": [
    "# Vorbereitungen\n",
    "import numpy as np\n",
    "import pandas as pd\n",
    "import matplotlib.pyplot as plt"
   ]
  },
  {
   "cell_type": "code",
   "execution_count": null,
   "id": "23995b32",
   "metadata": {},
   "outputs": [],
   "source": [
    "# Datensatz einlesen\n",
    "df = pd.read_csv ('https://www.statistical-thinking.de/python_workshops/data_four.csv')"
   ]
  },
  {
   "cell_type": "code",
   "execution_count": null,
   "id": "3db4d1d2",
   "metadata": {},
   "outputs": [],
   "source": [
    "# Univariate Statistik (I)\n",
    "df.describe()"
   ]
  },
  {
   "cell_type": "code",
   "execution_count": null,
   "id": "8fbc6728",
   "metadata": {},
   "outputs": [],
   "source": [
    "# Univariate Statistik (II)\n",
    "df.boxplot()\n",
    "title_boxplot = 'Descriptive Statistics'\n",
    "plt.title(title_boxplot)"
   ]
  },
  {
   "cell_type": "code",
   "execution_count": null,
   "id": "0eab833a",
   "metadata": {},
   "outputs": [],
   "source": [
    "# Datenaufbereitung (I)\n",
    "group_a_df = df.loc[(df.Y == \"A\")]\n",
    "group_b_df = df.loc[(df.Y == \"B\")]\n",
    "group_c_df = df.loc[(df.Y == \"C\")]"
   ]
  },
  {
   "cell_type": "code",
   "execution_count": null,
   "id": "eeddf5e1",
   "metadata": {},
   "outputs": [],
   "source": [
    "# Datenaufbereitung (II)\n",
    "plt.subplot(1, 3, 1)\n",
    "group_a_df.boxplot()\n",
    "plt.ylim(0, 8)\n",
    "title_boxplot = \"Gruppe A\"\n",
    "plt.title(title_boxplot)\n",
    "plt.subplot(1, 3, 2)\n",
    "group_b_df.boxplot()\n",
    "plt.ylim(0, 8)\n",
    "title_boxplot = \"Gruppe B\"\n",
    "plt.title(title_boxplot)\n",
    "plt.subplot(1, 3, 3)\n",
    "group_c_df.boxplot()\n",
    "plt.ylim(0, 8)\n",
    "title_boxplot = \"Gruppe C\"\n",
    "plt.title(title_boxplot)"
   ]
  },
  {
   "cell_type": "code",
   "execution_count": null,
   "id": "164e6b05",
   "metadata": {},
   "outputs": [],
   "source": [
    "# Datenaufbereitung (III)\n",
    "group_a_df.describe()\n",
    "\n",
    "##############################\n",
    "### SIEHE AUFGABENSTELLUNG ###\n",
    "##############################"
   ]
  },
  {
   "cell_type": "code",
   "execution_count": null,
   "id": "5885a5f5",
   "metadata": {},
   "outputs": [],
   "source": [
    "# Manuelle Identifikation\n",
    "identification_group_a_df = df.loc[(df.X3 <= 1.9) & (df.X4 <= 0.6)]\n",
    "print('correct:', identification_group_a_df.Y.count(), '/ 50')\n",
    "\n",
    "##############################\n",
    "### SIEHE AUFGABENSTELLUNG ###\n",
    "##############################"
   ]
  },
  {
   "cell_type": "code",
   "execution_count": null,
   "id": "2467f358",
   "metadata": {},
   "outputs": [],
   "source": []
  }
 ],
 "metadata": {
  "kernelspec": {
   "display_name": "Python 3 (ipykernel)",
   "language": "python",
   "name": "python3"
  },
  "language_info": {
   "codemirror_mode": {
    "name": "ipython",
    "version": 3
   },
   "file_extension": ".py",
   "mimetype": "text/x-python",
   "name": "python",
   "nbconvert_exporter": "python",
   "pygments_lexer": "ipython3",
   "version": "3.10.6"
  }
 },
 "nbformat": 4,
 "nbformat_minor": 5
}
