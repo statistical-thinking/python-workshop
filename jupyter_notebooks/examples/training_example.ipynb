{
 "cells": [
  {
   "cell_type": "code",
   "execution_count": null,
   "id": "cacb6b91",
   "metadata": {},
   "outputs": [],
   "source": [
    "# Vorbereitungen\n",
    "import numpy as np\n",
    "import pandas as pd\n",
    "import matplotlib.pyplot as plt\n",
    "from sklearn.linear_model import LinearRegression"
   ]
  },
  {
   "cell_type": "code",
   "execution_count": null,
   "id": "d869ed07",
   "metadata": {},
   "outputs": [],
   "source": [
    "# Datensatz einlesen\n",
    "df = pd.read_csv ('https://www.statistical-thinking.de/python_workshops/data_two.csv')"
   ]
  },
  {
   "cell_type": "code",
   "execution_count": null,
   "id": "11f80a02",
   "metadata": {},
   "outputs": [],
   "source": [
    "# Univariate Statistik (I)\n",
    "df.describe()"
   ]
  },
  {
   "cell_type": "code",
   "execution_count": null,
   "id": "e5be4862",
   "metadata": {},
   "outputs": [],
   "source": [
    "# Univariate Statistik (II)\n",
    "df.boxplot()\n",
    "title_boxplot = 'Descriptive Statistics'\n",
    "plt.title(title_boxplot)"
   ]
  },
  {
   "cell_type": "code",
   "execution_count": null,
   "id": "978a8d53",
   "metadata": {},
   "outputs": [],
   "source": [
    "# Multivariate Statistik (I)\n",
    "y = np.array(df.Y[0:11])\n",
    "x = df.iloc[0:11, 0:2]"
   ]
  },
  {
   "cell_type": "code",
   "execution_count": null,
   "id": "93271887",
   "metadata": {},
   "outputs": [],
   "source": [
    "# Multivariate Statistik (II)\n",
    "model = LinearRegression()\n",
    "model.fit(x, y)"
   ]
  },
  {
   "cell_type": "code",
   "execution_count": null,
   "id": "5083863a",
   "metadata": {},
   "outputs": [],
   "source": [
    "# Multivariate Statistik (III)\n",
    "r_sq = model.score(x, y)\n",
    "print('coefficient of determination:', r_sq)\n",
    "print('intercept:', model.intercept_)\n",
    "print('coefficients:', model.coef_)"
   ]
  },
  {
   "cell_type": "code",
   "execution_count": null,
   "id": "9e19620d",
   "metadata": {},
   "outputs": [],
   "source": [
    "# Probe\n",
    "df.iloc[12,]"
   ]
  },
  {
   "cell_type": "code",
   "execution_count": null,
   "id": "49b41ad2",
   "metadata": {},
   "outputs": [],
   "source": [
    "print('prediction of y:', -32.97 + 2.72 * 11.4 + 0.29 * 76)"
   ]
  },
  {
   "cell_type": "code",
   "execution_count": null,
   "id": "580f1a5a",
   "metadata": {},
   "outputs": [],
   "source": [
    "# Multivariate Statistik (IV)\n",
    "predictions = model.predict(x)\n",
    "residuals = y - predictions\n",
    "print('residuals:', residuals)"
   ]
  },
  {
   "cell_type": "code",
   "execution_count": null,
   "id": "6acd4485",
   "metadata": {},
   "outputs": [],
   "source": [
    "# Solution\n",
    "res = abs(residuals)\n",
    "print('mean of residuals:', np.mean(res))\n",
    "print('std of target variable:', np.std(df.Y))\n",
    "print('additional uncertainty (%):', np.mean(res)/np.std(df.Y))"
   ]
  },
  {
   "cell_type": "code",
   "execution_count": null,
   "id": "e17f404a",
   "metadata": {},
   "outputs": [],
   "source": [
    "# Multivariate Statistik (V)\n",
    "y = np.array(df.Y[21:31])\n",
    "x = df.iloc[21:31, 0:2]"
   ]
  },
  {
   "cell_type": "code",
   "execution_count": null,
   "id": "cf568560",
   "metadata": {},
   "outputs": [],
   "source": [
    "# Multivariate Statistik (VI)\n",
    "model = LinearRegression()\n",
    "model.fit(x, y)"
   ]
  },
  {
   "cell_type": "code",
   "execution_count": null,
   "id": "abbb90df",
   "metadata": {},
   "outputs": [],
   "source": [
    "# Multivariate Statistik (VII)\n",
    "r_sq = model.score(x, y)\n",
    "print('coefficient of determination:', r_sq)\n",
    "print('intercept:', model.intercept_)\n",
    "print('coefficients:', model.coef_)"
   ]
  },
  {
   "cell_type": "code",
   "execution_count": null,
   "id": "31683641",
   "metadata": {},
   "outputs": [],
   "source": [
    "# Probe\n",
    "df.iloc[12,]"
   ]
  },
  {
   "cell_type": "code",
   "execution_count": null,
   "id": "13225e28",
   "metadata": {},
   "outputs": [],
   "source": [
    "print('prediction of y:', -101.87 + 5.59 * 11.4 + 0.71 * 76)"
   ]
  },
  {
   "cell_type": "code",
   "execution_count": null,
   "id": "df427030",
   "metadata": {},
   "outputs": [],
   "source": [
    "# Multivariate Statistik (VIII)\n",
    "predictions = model.predict(x)\n",
    "residuals = y - predictions\n",
    "print('residuals:', residuals)"
   ]
  },
  {
   "cell_type": "code",
   "execution_count": null,
   "id": "43a93b59",
   "metadata": {},
   "outputs": [],
   "source": [
    "# Solution\n",
    "res = abs(residuals)\n",
    "print('mean of residuals:', np.mean(res))\n",
    "print('std of target variable:', np.std(df.Y))\n",
    "print('additional uncertainty (%):', np.mean(res)/np.std(df.Y))"
   ]
  },
  {
   "cell_type": "code",
   "execution_count": null,
   "id": "6138ba8f",
   "metadata": {},
   "outputs": [],
   "source": []
  }
 ],
 "metadata": {
  "kernelspec": {
   "display_name": "Python 3 (ipykernel)",
   "language": "python",
   "name": "python3"
  },
  "language_info": {
   "codemirror_mode": {
    "name": "ipython",
    "version": 3
   },
   "file_extension": ".py",
   "mimetype": "text/x-python",
   "name": "python",
   "nbconvert_exporter": "python",
   "pygments_lexer": "ipython3",
   "version": "3.10.12"
  }
 },
 "nbformat": 4,
 "nbformat_minor": 5
}
