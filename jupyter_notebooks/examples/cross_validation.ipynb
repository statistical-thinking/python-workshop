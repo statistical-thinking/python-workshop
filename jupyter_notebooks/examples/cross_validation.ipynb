{
 "cells": [
  {
   "cell_type": "code",
   "execution_count": null,
   "id": "9ef66681",
   "metadata": {},
   "outputs": [],
   "source": [
    "# Vorbereitungen\n",
    "import numpy as np\n",
    "import pandas as pd\n",
    "from sklearn.svm import SVC\n",
    "from sklearn.cluster import KMeans\n",
    "from sklearn.metrics import accuracy_score\n",
    "from sklearn.preprocessing import LabelEncoder\n",
    "from sklearn.neighbors import KNeighborsClassifier\n",
    "from sklearn.ensemble import RandomForestClassifier\n",
    "from sklearn.model_selection import cross_val_score\n",
    "from sklearn.model_selection import train_test_split"
   ]
  },
  {
   "cell_type": "code",
   "execution_count": null,
   "id": "6f4d0b18",
   "metadata": {},
   "outputs": [],
   "source": [
    "# Datensatz einlesen\n",
    "df = pd.read_csv ('https://www.statistical-thinking.de/python_workshops/data_five.csv')"
   ]
  },
  {
   "cell_type": "code",
   "execution_count": null,
   "id": "f575c99f",
   "metadata": {},
   "outputs": [],
   "source": [
    "# Datenaufbereitung für Supervised Machine Learning\n",
    "y = np.array(df.Y)\n",
    "x = df.iloc[:,[0,3]]\n",
    "encoder = LabelEncoder()\n",
    "y = encoder.fit_transform(y)"
   ]
  },
  {
   "cell_type": "code",
   "execution_count": null,
   "id": "3be8d7e0",
   "metadata": {},
   "outputs": [],
   "source": [
    "# Trainingsdatensatz (80%) und Testdatensatz (20%) einteilen\n",
    "res = train_test_split(x, y,\n",
    "    train_size=0.8,\n",
    "    test_size=0.2,\n",
    "    random_state=12)\n",
    "train_data, test_data, train_labels, test_labels = res"
   ]
  },
  {
   "cell_type": "code",
   "execution_count": null,
   "id": "36eb8ef2",
   "metadata": {},
   "outputs": [],
   "source": [
    "# K-Nearest-Neighbor\n",
    "knn = KNeighborsClassifier()\n",
    "knn.fit(train_data, train_labels)\n",
    "print(\"Predictions from the classifier:\")\n",
    "knn_predicted_data = knn.predict(test_data)\n",
    "print(knn_predicted_data)\n",
    "print(\"Target values:\")\n",
    "print(test_labels)"
   ]
  },
  {
   "cell_type": "code",
   "execution_count": null,
   "id": "d3e3d69a",
   "metadata": {},
   "outputs": [],
   "source": [
    "# K-Nearest-Neighbor Accuracy\n",
    "print(accuracy_score(knn_predicted_data, test_labels))"
   ]
  },
  {
   "cell_type": "code",
   "execution_count": null,
   "id": "466c7b3e",
   "metadata": {},
   "outputs": [],
   "source": [
    "# Kreuzvalidierung\n",
    "knn_cv = KNeighborsClassifier()\n",
    "cv_scores = cross_val_score(knn_cv, x, y, cv=10)\n",
    "print('cv_scores mean: {}'.format(np.mean(cv_scores)))"
   ]
  },
  {
   "cell_type": "code",
   "execution_count": null,
   "id": "fb66fbfc",
   "metadata": {},
   "outputs": [],
   "source": [
    "# Random Forest\n",
    "rf = RandomForestClassifier()\n",
    "rf.fit(train_data, train_labels)\n",
    "print(\"Predictions from the classifier:\")\n",
    "rf_predicted_data = rf.predict(test_data)\n",
    "print(rf_predicted_data)\n",
    "print(\"Target values:\")\n",
    "print(test_labels)"
   ]
  },
  {
   "cell_type": "code",
   "execution_count": null,
   "id": "a91b42a7",
   "metadata": {},
   "outputs": [],
   "source": [
    "# Random Forest Accuracy\n",
    "print(accuracy_score(rf_predicted_data, test_labels))"
   ]
  },
  {
   "cell_type": "code",
   "execution_count": null,
   "id": "876b50c0",
   "metadata": {},
   "outputs": [],
   "source": [
    "# Kreuzvalidierung\n",
    "rf_cv = KNeighborsClassifier()\n",
    "cv_scores = cross_val_score(rf_cv, x, y, cv=10)\n",
    "print('cv_scores mean: {}'.format(np.mean(cv_scores)))"
   ]
  },
  {
   "cell_type": "code",
   "execution_count": null,
   "id": "ca8a6707",
   "metadata": {},
   "outputs": [],
   "source": []
  }
 ],
 "metadata": {
  "kernelspec": {
   "display_name": "Python 3 (ipykernel)",
   "language": "python",
   "name": "python3"
  },
  "language_info": {
   "codemirror_mode": {
    "name": "ipython",
    "version": 3
   },
   "file_extension": ".py",
   "mimetype": "text/x-python",
   "name": "python",
   "nbconvert_exporter": "python",
   "pygments_lexer": "ipython3",
   "version": "3.10.12"
  }
 },
 "nbformat": 4,
 "nbformat_minor": 5
}
