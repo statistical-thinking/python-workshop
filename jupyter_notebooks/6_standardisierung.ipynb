{
 "cells": [
  {
   "cell_type": "code",
   "execution_count": null,
   "id": "523fd5f9",
   "metadata": {},
   "outputs": [],
   "source": [
    "# Vorbereitungen\n",
    "import numpy as np\n",
    "import pandas as pd\n",
    "from sklearn.preprocessing import StandardScaler\n",
    "scale = StandardScaler()"
   ]
  },
  {
   "cell_type": "code",
   "execution_count": null,
   "id": "60596f78",
   "metadata": {},
   "outputs": [],
   "source": [
    "# Datensatz einlesen\n",
    "df = pd.read_csv('datasets/data_six.csv')"
   ]
  },
  {
   "cell_type": "code",
   "execution_count": null,
   "id": "8b62802b",
   "metadata": {},
   "outputs": [],
   "source": [
    "# Univariate Statistik\n",
    "df.describe()"
   ]
  },
  {
   "cell_type": "code",
   "execution_count": null,
   "id": "fc1bcdda",
   "metadata": {},
   "outputs": [],
   "source": [
    "# z-Transformation der ersten unabhängigen Variable\n",
    "x = df.iloc[:,[0]]\n",
    "scaled_x = scale.fit_transform(x)"
   ]
  },
  {
   "cell_type": "code",
   "execution_count": null,
   "id": "13a8048f",
   "metadata": {},
   "outputs": [],
   "source": [
    "# Mittelwert der standardisierten Variable\n",
    "mean_scaled_x = np.mean(scaled_x)\n",
    "round(mean_scaled_x)"
   ]
  },
  {
   "cell_type": "code",
   "execution_count": null,
   "id": "8c4abc77",
   "metadata": {},
   "outputs": [],
   "source": [
    "# Standardabweichung der standardisierten Variable\n",
    "sd_scaled_x = np.std(scaled_x)\n",
    "round(sd_scaled_x)"
   ]
  },
  {
   "cell_type": "code",
   "execution_count": null,
   "id": "75c277b5",
   "metadata": {},
   "outputs": [],
   "source": [
    "# Zweiten unabhängige Variable\n",
    "\n",
    "##############################\n",
    "### SIEHE AUFGABENSTELLUNG ###\n",
    "##############################"
   ]
  },
  {
   "cell_type": "code",
   "execution_count": null,
   "id": "766bf41e",
   "metadata": {},
   "outputs": [],
   "source": [
    "# Abhängige Variable\n",
    "\n",
    "##############################\n",
    "### SIEHE AUFGABENSTELLUNG ###\n",
    "##############################"
   ]
  },
  {
   "cell_type": "code",
   "execution_count": null,
   "id": "e63f3677",
   "metadata": {},
   "outputs": [],
   "source": []
  }
 ],
 "metadata": {
  "kernelspec": {
   "display_name": "Python 3 (ipykernel)",
   "language": "python",
   "name": "python3"
  },
  "language_info": {
   "codemirror_mode": {
    "name": "ipython",
    "version": 3
   },
   "file_extension": ".py",
   "mimetype": "text/x-python",
   "name": "python",
   "nbconvert_exporter": "python",
   "pygments_lexer": "ipython3",
   "version": "3.12.3"
  }
 },
 "nbformat": 4,
 "nbformat_minor": 5
}
